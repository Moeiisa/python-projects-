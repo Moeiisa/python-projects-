{
 "cells": [
  {
   "cell_type": "code",
   "execution_count": 1,
   "id": "20e5ad7b-4ccf-45f1-99c7-6d916fd9983f",
   "metadata": {},
   "outputs": [
    {
     "name": "stdout",
     "output_type": "stream",
     "text": [
      "Welcome to the Science Quiz!\n",
      "Choose a level:\n",
      "1. Easy (10 Questions)\n",
      "2. Medium (20 Questions)\n",
      "3. Hard (30 Questions)\n"
     ]
    },
    {
     "name": "stdin",
     "output_type": "stream",
     "text": [
      "Enter the level number (1, 2, or 3):  1\n"
     ]
    },
    {
     "name": "stdout",
     "output_type": "stream",
     "text": [
      "\n",
      "--- Level 1: Easy (10 Questions) ---\n",
      "\n",
      "Question 1:  What is the SI unit of force?  \n"
     ]
    },
    {
     "name": "stdin",
     "output_type": "stream",
     "text": [
      "Your answer:  newton\n"
     ]
    },
    {
     "name": "stdout",
     "output_type": "stream",
     "text": [
      "newton\n",
      "Correct!\n",
      "\n",
      "Question 2:  Who discovered gravity?  \n"
     ]
    },
    {
     "name": "stdin",
     "output_type": "stream",
     "text": [
      "Your answer:  newton\n"
     ]
    },
    {
     "name": "stdout",
     "output_type": "stream",
     "text": [
      "newton\n",
      "Correct!\n",
      "\n",
      "Question 3:  What is the speed of light?  \n"
     ]
    },
    {
     "name": "stdin",
     "output_type": "stream",
     "text": [
      "Your answer:  3 * 10^8 m/s\n"
     ]
    },
    {
     "name": "stdout",
     "output_type": "stream",
     "text": [
      "3x10^8 m/s\n",
      "Wrong! The correct answer is: 3x10^8 m/s\n",
      "\n",
      "Question 4:  What is the unit of electric current?  \n"
     ]
    },
    {
     "name": "stdin",
     "output_type": "stream",
     "text": [
      "Your answer:  ampere\n"
     ]
    },
    {
     "name": "stdout",
     "output_type": "stream",
     "text": [
      "ampere\n",
      "Correct!\n",
      "\n",
      "Question 5:  What is the unit of frequency?  \n"
     ]
    },
    {
     "name": "stdin",
     "output_type": "stream",
     "text": [
      "Your answer:  hertz\n"
     ]
    },
    {
     "name": "stdout",
     "output_type": "stream",
     "text": [
      "hertz\n",
      "Correct!\n",
      "\n",
      "Question 6:  What is the unit of energy?  \n"
     ]
    },
    {
     "name": "stdin",
     "output_type": "stream",
     "text": [
      "Your answer:  joule\n"
     ]
    },
    {
     "name": "stdout",
     "output_type": "stream",
     "text": [
      "joule\n",
      "Correct!\n",
      "\n",
      "Question 7:  What is the unit of power?  \n"
     ]
    },
    {
     "name": "stdin",
     "output_type": "stream",
     "text": [
      "Your answer:  wat\n"
     ]
    },
    {
     "name": "stdout",
     "output_type": "stream",
     "text": [
      "watt\n",
      "Wrong! The correct answer is: watt\n",
      "\n",
      "Question 8:  What is the unit of resistance?  \n"
     ]
    },
    {
     "name": "stdin",
     "output_type": "stream",
     "text": [
      "Your answer:  ohm\n"
     ]
    },
    {
     "name": "stdout",
     "output_type": "stream",
     "text": [
      "ohm\n",
      "Correct!\n",
      "\n",
      "Question 9:  What is the unit of pressure?  \n"
     ]
    },
    {
     "name": "stdin",
     "output_type": "stream",
     "text": [
      "Your answer:  pascal\n"
     ]
    },
    {
     "name": "stdout",
     "output_type": "stream",
     "text": [
      "pascal\n",
      "Correct!\n",
      "\n",
      "Question 10:  What is the unit of temperature?  \n"
     ]
    },
    {
     "name": "stdin",
     "output_type": "stream",
     "text": [
      "Your answer:  kelvin\n"
     ]
    },
    {
     "name": "stdout",
     "output_type": "stream",
     "text": [
      "kelvin\n",
      "Correct!\n",
      "\n",
      "Your score: 8/10\n"
     ]
    }
   ],
   "source": [
    "def load_questions_and_answers():\n",
    "    \"\"\"Load questions and answers from text files.\"\"\"\n",
    "    with open(r\"C:\\Users\\HP\\OneDrive\\Desktop\\qtns.txt\", \"r\") as q_file:\n",
    "        questions = q_file.read().splitlines()\n",
    "    with open(r\"C:\\Users\\HP\\OneDrive\\Desktop\\sol.txt\", \"r\") as a_file:\n",
    "        answers = a_file.read().splitlines()\n",
    "    return questions, answers\n",
    "\n",
    "def run_quiz(questions, answers, level):\n",
    "    \"\"\"Run the quiz based on the selected level.\"\"\"\n",
    "    if level == 1:\n",
    "        print(\"\\n--- Level 1: Easy (10 Questions) ---\")\n",
    "        start, end = 0, 10\n",
    "    elif level == 2:\n",
    "        print(\"\\n--- Level 2: Medium (20 Questions) ---\")\n",
    "        start, end = 10, 30\n",
    "    elif level == 3:\n",
    "        print(\"\\n--- Level 3: Hard (30 Questions) ---\")\n",
    "        start, end = 30, 60\n",
    "    else:\n",
    "        print(\"Invalid level selected. Exiting.\")\n",
    "        return\n",
    "\n",
    "    score = 0\n",
    "    for i in range(start, end):\n",
    "        print(f\"\\nQuestion {i + 1}: {questions[i]}\")\n",
    "        user_answer = input(\"Your answer: \").strip().lower()\n",
    "        correct_answer = answers[i].strip().lower()\n",
    "        print(correct_answer)\n",
    "        \n",
    "\n",
    "        if user_answer == correct_answer:\n",
    "            print(\"Correct!\")\n",
    "            score += 1\n",
    "        else:\n",
    "            print(f\"Wrong! The correct answer is: {correct_answer}\")\n",
    "\n",
    "    print(f\"\\nYour score: {score}/{end - start}\")\n",
    "\n",
    "def main():\n",
    "    \"\"\"Main function to run the quiz application.\"\"\"\n",
    "    questions, answers = load_questions_and_answers()\n",
    "\n",
    "    print(\"Welcome to the Science Quiz!\")\n",
    "    print(\"Choose a level:\")\n",
    "    print(\"1. Easy (10 Questions)\")\n",
    "    print(\"2. Medium (20 Questions)\")\n",
    "    print(\"3. Hard (30 Questions)\")\n",
    "\n",
    "    try:\n",
    "        level = int(input(\"Enter the level number (1, 2, or 3): \"))\n",
    "        if level not in [1, 2, 3]:\n",
    "            print(\"Invalid input. Please choose 1, 2, or 3.\")\n",
    "            return\n",
    "    except ValueError:\n",
    "        print(\"Invalid input. Please enter a number.\")\n",
    "        return\n",
    "\n",
    "    run_quiz(questions, answers, level)\n",
    "\n",
    "if __name__ == \"__main__\":\n",
    "    main()"
   ]
  },
  {
   "cell_type": "code",
   "execution_count": null,
   "id": "808d6bbe-bddf-4f7d-ba36-36a26086d510",
   "metadata": {},
   "outputs": [],
   "source": []
  }
 ],
 "metadata": {
  "kernelspec": {
   "display_name": "Python 3 (ipykernel)",
   "language": "python",
   "name": "python3"
  },
  "language_info": {
   "codemirror_mode": {
    "name": "ipython",
    "version": 3
   },
   "file_extension": ".py",
   "mimetype": "text/x-python",
   "name": "python",
   "nbconvert_exporter": "python",
   "pygments_lexer": "ipython3",
   "version": "3.13.2"
  }
 },
 "nbformat": 4,
 "nbformat_minor": 5
}
